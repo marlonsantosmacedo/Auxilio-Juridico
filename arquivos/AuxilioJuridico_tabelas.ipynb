{
  "nbformat": 4,
  "nbformat_minor": 0,
  "metadata": {
    "colab": {
      "name": "AuxilioJuridico-tabelas.ipynb",
      "provenance": [],
      "collapsed_sections": []
    },
    "kernelspec": {
      "display_name": "Python 3",
      "language": "python",
      "name": "python3"
    },
    "language_info": {
      "codemirror_mode": {
        "name": "ipython",
        "version": 3
      },
      "file_extension": ".py",
      "mimetype": "text/x-python",
      "name": "python",
      "nbconvert_exporter": "python",
      "pygments_lexer": "ipython3",
      "version": "3.6.7"
    }
  },
  "cells": [
    {
      "cell_type": "markdown",
      "metadata": {
        "colab_type": "text",
        "id": "rltFfCLwpgza"
      },
      "source": [
        "# Conexão com postgres e tabelas do sistema"
      ]
    },
    {
      "cell_type": "markdown",
      "metadata": {
        "colab_type": "text",
        "id": "wxEVO0nFpgzd"
      },
      "source": [
        "## Instalando bibliotecas de acesso ao postgres, manipulação de dados e gráficos"
      ]
    },
    {
      "cell_type": "code",
      "metadata": {
        "colab_type": "code",
        "id": "aAhAuItwpgzg",
        "scrolled": true,
        "colab": {}
      },
      "source": [
        "#!pip install --user psycopg2-binary\n",
        "#!pip install --user seaborn\n",
        "#!pip install --user pandas"
      ],
      "execution_count": 1,
      "outputs": []
    },
    {
      "cell_type": "markdown",
      "metadata": {
        "colab_type": "text",
        "id": "sopl99YFpgz1"
      },
      "source": [
        "### Importando bibliotecas"
      ]
    },
    {
      "cell_type": "code",
      "metadata": {
        "colab_type": "code",
        "id": "bLf5p8G2pgz3",
        "colab": {
          "base_uri": "https://localhost:8080/",
          "height": 105
        },
        "outputId": "ecd94c3c-d7c2-481e-db79-dac9378f656c"
      },
      "source": [
        "import seaborn as sns\n",
        "import matplotlib.pyplot as plt\n",
        "import pandas as pd\n",
        "import psycopg2"
      ],
      "execution_count": 2,
      "outputs": [
        {
          "output_type": "stream",
          "text": [
            "/usr/local/lib/python3.6/dist-packages/statsmodels/tools/_testing.py:19: FutureWarning: pandas.util.testing is deprecated. Use the functions in the public API at pandas.testing instead.\n",
            "  import pandas.util.testing as tm\n",
            "/usr/local/lib/python3.6/dist-packages/psycopg2/__init__.py:144: UserWarning: The psycopg2 wheel package will be renamed from release 2.8; in order to keep installing from binary please use \"pip install psycopg2-binary\" instead. For details see: <http://initd.org/psycopg/docs/install.html#binary-install-from-pypi>.\n",
            "  \"\"\")\n"
          ],
          "name": "stderr"
        }
      ]
    },
    {
      "cell_type": "markdown",
      "metadata": {
        "colab_type": "text",
        "id": "n7XG0SI8pgz_"
      },
      "source": [
        "### Usando psycopg2 para configurar conexão"
      ]
    },
    {
      "cell_type": "code",
      "metadata": {
        "colab_type": "code",
        "id": "22N-L3e5pg0B",
        "colab": {}
      },
      "source": [
        "conn = psycopg2.connect(host = \"tuffi.db.elephantsql.com\", database = \"aplkecxq\", user = \"aplkecxq\", password = \"sn9xx6DLxTROOfwZNfnnq7DW2GA1qpZv\")"
      ],
      "execution_count": 3,
      "outputs": []
    },
    {
      "cell_type": "markdown",
      "metadata": {
        "id": "pOCGq7VcbhUu",
        "colab_type": "text"
      },
      "source": [
        "# Tabelas"
      ]
    },
    {
      "cell_type": "markdown",
      "metadata": {
        "id": "p4tnISuQbhUx",
        "colab_type": "text"
      },
      "source": [
        "## Usuário"
      ]
    },
    {
      "cell_type": "code",
      "metadata": {
        "id": "RLWwXFY5bhUy",
        "colab_type": "code",
        "colab": {
          "base_uri": "https://localhost:8080/",
          "height": 235
        },
        "outputId": "7ed36bae-0835-46b9-99aa-4568fa180862"
      },
      "source": [
        "res = pd.read_sql_query(\"SELECT * FROM usuario\", conn)\n",
        "res"
      ],
      "execution_count": 4,
      "outputs": [
        {
          "output_type": "execute_result",
          "data": {
            "text/html": [
              "<div>\n",
              "<style scoped>\n",
              "    .dataframe tbody tr th:only-of-type {\n",
              "        vertical-align: middle;\n",
              "    }\n",
              "\n",
              "    .dataframe tbody tr th {\n",
              "        vertical-align: top;\n",
              "    }\n",
              "\n",
              "    .dataframe thead th {\n",
              "        text-align: right;\n",
              "    }\n",
              "</style>\n",
              "<table border=\"1\" class=\"dataframe\">\n",
              "  <thead>\n",
              "    <tr style=\"text-align: right;\">\n",
              "      <th></th>\n",
              "      <th>nome</th>\n",
              "      <th>cpf</th>\n",
              "      <th>senha</th>\n",
              "    </tr>\n",
              "  </thead>\n",
              "  <tbody>\n",
              "    <tr>\n",
              "      <th>0</th>\n",
              "      <td>Cleiton Rasta</td>\n",
              "      <td>1556785</td>\n",
              "      <td>rasta</td>\n",
              "    </tr>\n",
              "    <tr>\n",
              "      <th>1</th>\n",
              "      <td>Emanuel</td>\n",
              "      <td>342353</td>\n",
              "      <td>1557</td>\n",
              "    </tr>\n",
              "    <tr>\n",
              "      <th>2</th>\n",
              "      <td>Juscileide</td>\n",
              "      <td>11557</td>\n",
              "      <td>777</td>\n",
              "    </tr>\n",
              "    <tr>\n",
              "      <th>3</th>\n",
              "      <td>Maria</td>\n",
              "      <td>12312</td>\n",
              "      <td>lola</td>\n",
              "    </tr>\n",
              "    <tr>\n",
              "      <th>4</th>\n",
              "      <td>Marlon</td>\n",
              "      <td>45324</td>\n",
              "      <td>edge</td>\n",
              "    </tr>\n",
              "    <tr>\n",
              "      <th>5</th>\n",
              "      <td>Lucas</td>\n",
              "      <td>11223</td>\n",
              "      <td>tchola</td>\n",
              "    </tr>\n",
              "  </tbody>\n",
              "</table>\n",
              "</div>"
            ],
            "text/plain": [
              "            nome      cpf   senha\n",
              "0  Cleiton Rasta  1556785   rasta\n",
              "1        Emanuel   342353    1557\n",
              "2     Juscileide    11557     777\n",
              "3          Maria    12312    lola\n",
              "4         Marlon    45324    edge\n",
              "5          Lucas    11223  tchola"
            ]
          },
          "metadata": {
            "tags": []
          },
          "execution_count": 4
        }
      ]
    },
    {
      "cell_type": "markdown",
      "metadata": {
        "id": "_oK_Hb7rdct8",
        "colab_type": "text"
      },
      "source": [
        "## Profissional jurídico"
      ]
    },
    {
      "cell_type": "code",
      "metadata": {
        "id": "3QII9u8mdjdK",
        "colab_type": "code",
        "colab": {
          "base_uri": "https://localhost:8080/",
          "height": 111
        },
        "outputId": "6300eeb4-6f17-41b7-b6bb-34ef5b9bd20e"
      },
      "source": [
        "res = pd.read_sql_query(\"SELECT * FROM profissional_juridico\", conn)\n",
        "res"
      ],
      "execution_count": 6,
      "outputs": [
        {
          "output_type": "execute_result",
          "data": {
            "text/html": [
              "<div>\n",
              "<style scoped>\n",
              "    .dataframe tbody tr th:only-of-type {\n",
              "        vertical-align: middle;\n",
              "    }\n",
              "\n",
              "    .dataframe tbody tr th {\n",
              "        vertical-align: top;\n",
              "    }\n",
              "\n",
              "    .dataframe thead th {\n",
              "        text-align: right;\n",
              "    }\n",
              "</style>\n",
              "<table border=\"1\" class=\"dataframe\">\n",
              "  <thead>\n",
              "    <tr style=\"text-align: right;\">\n",
              "      <th></th>\n",
              "      <th>cpf_usuario</th>\n",
              "      <th>numero_oab</th>\n",
              "    </tr>\n",
              "  </thead>\n",
              "  <tbody>\n",
              "    <tr>\n",
              "      <th>0</th>\n",
              "      <td>1556785</td>\n",
              "      <td>5667</td>\n",
              "    </tr>\n",
              "    <tr>\n",
              "      <th>1</th>\n",
              "      <td>12312</td>\n",
              "      <td>6534</td>\n",
              "    </tr>\n",
              "  </tbody>\n",
              "</table>\n",
              "</div>"
            ],
            "text/plain": [
              "   cpf_usuario  numero_oab\n",
              "0      1556785        5667\n",
              "1        12312        6534"
            ]
          },
          "metadata": {
            "tags": []
          },
          "execution_count": 6
        }
      ]
    },
    {
      "cell_type": "markdown",
      "metadata": {
        "id": "Y7V05fM6dwZx",
        "colab_type": "text"
      },
      "source": [
        "## Auxiliado"
      ]
    },
    {
      "cell_type": "code",
      "metadata": {
        "id": "azinpg44dypA",
        "colab_type": "code",
        "colab": {
          "base_uri": "https://localhost:8080/",
          "height": 173
        },
        "outputId": "971138ed-269a-430f-e871-cc9b89d26b1b"
      },
      "source": [
        "res = pd.read_sql_query(\"SELECT * FROM auxiliado\", conn)\n",
        "res"
      ],
      "execution_count": 7,
      "outputs": [
        {
          "output_type": "execute_result",
          "data": {
            "text/html": [
              "<div>\n",
              "<style scoped>\n",
              "    .dataframe tbody tr th:only-of-type {\n",
              "        vertical-align: middle;\n",
              "    }\n",
              "\n",
              "    .dataframe tbody tr th {\n",
              "        vertical-align: top;\n",
              "    }\n",
              "\n",
              "    .dataframe thead th {\n",
              "        text-align: right;\n",
              "    }\n",
              "</style>\n",
              "<table border=\"1\" class=\"dataframe\">\n",
              "  <thead>\n",
              "    <tr style=\"text-align: right;\">\n",
              "      <th></th>\n",
              "      <th>cpf_usuario</th>\n",
              "      <th>ctps</th>\n",
              "      <th>rg</th>\n",
              "      <th>numero_telefone</th>\n",
              "      <th>data_nascimento</th>\n",
              "    </tr>\n",
              "  </thead>\n",
              "  <tbody>\n",
              "    <tr>\n",
              "      <th>0</th>\n",
              "      <td>342353</td>\n",
              "      <td>1328946</td>\n",
              "      <td>1245879</td>\n",
              "      <td>9997872</td>\n",
              "      <td>1978-09-23</td>\n",
              "    </tr>\n",
              "    <tr>\n",
              "      <th>1</th>\n",
              "      <td>11557</td>\n",
              "      <td>2454789</td>\n",
              "      <td>8530267</td>\n",
              "      <td>9959752</td>\n",
              "      <td>1988-11-01</td>\n",
              "    </tr>\n",
              "    <tr>\n",
              "      <th>2</th>\n",
              "      <td>45324</td>\n",
              "      <td>3578549</td>\n",
              "      <td>8752566</td>\n",
              "      <td>9752664</td>\n",
              "      <td>1991-08-30</td>\n",
              "    </tr>\n",
              "    <tr>\n",
              "      <th>3</th>\n",
              "      <td>11223</td>\n",
              "      <td>4587845</td>\n",
              "      <td>2458789</td>\n",
              "      <td>9365654</td>\n",
              "      <td>1979-02-19</td>\n",
              "    </tr>\n",
              "  </tbody>\n",
              "</table>\n",
              "</div>"
            ],
            "text/plain": [
              "   cpf_usuario     ctps       rg  numero_telefone data_nascimento\n",
              "0       342353  1328946  1245879          9997872      1978-09-23\n",
              "1        11557  2454789  8530267          9959752      1988-11-01\n",
              "2        45324  3578549  8752566          9752664      1991-08-30\n",
              "3        11223  4587845  2458789          9365654      1979-02-19"
            ]
          },
          "metadata": {
            "tags": []
          },
          "execution_count": 7
        }
      ]
    },
    {
      "cell_type": "markdown",
      "metadata": {
        "id": "--u6VWV9d7gS",
        "colab_type": "text"
      },
      "source": [
        "## Solicitação"
      ]
    },
    {
      "cell_type": "code",
      "metadata": {
        "id": "TMaNuKDud_Nu",
        "colab_type": "code",
        "colab": {
          "base_uri": "https://localhost:8080/",
          "height": 142
        },
        "outputId": "da093cba-ecc4-4434-ee68-8c2873392957"
      },
      "source": [
        "res = pd.read_sql_query(\"SELECT * FROM solicitacao\", conn)\n",
        "res"
      ],
      "execution_count": 9,
      "outputs": [
        {
          "output_type": "execute_result",
          "data": {
            "text/html": [
              "<div>\n",
              "<style scoped>\n",
              "    .dataframe tbody tr th:only-of-type {\n",
              "        vertical-align: middle;\n",
              "    }\n",
              "\n",
              "    .dataframe tbody tr th {\n",
              "        vertical-align: top;\n",
              "    }\n",
              "\n",
              "    .dataframe thead th {\n",
              "        text-align: right;\n",
              "    }\n",
              "</style>\n",
              "<table border=\"1\" class=\"dataframe\">\n",
              "  <thead>\n",
              "    <tr style=\"text-align: right;\">\n",
              "      <th></th>\n",
              "      <th>codigo</th>\n",
              "      <th>estado_atual</th>\n",
              "      <th>data_abertura</th>\n",
              "      <th>cpf_auxiliado</th>\n",
              "      <th>cpf_profissional</th>\n",
              "    </tr>\n",
              "  </thead>\n",
              "  <tbody>\n",
              "    <tr>\n",
              "      <th>0</th>\n",
              "      <td>1</td>\n",
              "      <td>ABERTO</td>\n",
              "      <td>2021-02-21</td>\n",
              "      <td>342353</td>\n",
              "      <td>1556785</td>\n",
              "    </tr>\n",
              "    <tr>\n",
              "      <th>1</th>\n",
              "      <td>2</td>\n",
              "      <td>ABERTO</td>\n",
              "      <td>2021-02-28</td>\n",
              "      <td>11223</td>\n",
              "      <td>12312</td>\n",
              "    </tr>\n",
              "    <tr>\n",
              "      <th>2</th>\n",
              "      <td>3</td>\n",
              "      <td>FECHADO</td>\n",
              "      <td>2021-03-03</td>\n",
              "      <td>11557</td>\n",
              "      <td>1556785</td>\n",
              "    </tr>\n",
              "  </tbody>\n",
              "</table>\n",
              "</div>"
            ],
            "text/plain": [
              "   codigo estado_atual data_abertura  cpf_auxiliado  cpf_profissional\n",
              "0       1       ABERTO    2021-02-21         342353           1556785\n",
              "1       2       ABERTO    2021-02-28          11223             12312\n",
              "2       3      FECHADO    2021-03-03          11557           1556785"
            ]
          },
          "metadata": {
            "tags": []
          },
          "execution_count": 9
        }
      ]
    },
    {
      "cell_type": "markdown",
      "metadata": {
        "id": "i7nE6O56eGXi",
        "colab_type": "text"
      },
      "source": [
        "## Mensagem"
      ]
    },
    {
      "cell_type": "code",
      "metadata": {
        "id": "FpFGGFBneIFr",
        "colab_type": "code",
        "colab": {
          "base_uri": "https://localhost:8080/",
          "height": 514
        },
        "outputId": "709e3df7-4a25-4ac0-f7ce-20b43282a700"
      },
      "source": [
        "res = pd.read_sql_query(\"SELECT * FROM mensagem\", conn)\n",
        "res"
      ],
      "execution_count": 10,
      "outputs": [
        {
          "output_type": "execute_result",
          "data": {
            "text/html": [
              "<div>\n",
              "<style scoped>\n",
              "    .dataframe tbody tr th:only-of-type {\n",
              "        vertical-align: middle;\n",
              "    }\n",
              "\n",
              "    .dataframe tbody tr th {\n",
              "        vertical-align: top;\n",
              "    }\n",
              "\n",
              "    .dataframe thead th {\n",
              "        text-align: right;\n",
              "    }\n",
              "</style>\n",
              "<table border=\"1\" class=\"dataframe\">\n",
              "  <thead>\n",
              "    <tr style=\"text-align: right;\">\n",
              "      <th></th>\n",
              "      <th>codigo</th>\n",
              "      <th>codigo_solicitacao</th>\n",
              "      <th>texto</th>\n",
              "      <th>data_envio</th>\n",
              "      <th>cpf_remetente</th>\n",
              "    </tr>\n",
              "  </thead>\n",
              "  <tbody>\n",
              "    <tr>\n",
              "      <th>0</th>\n",
              "      <td>1</td>\n",
              "      <td>1</td>\n",
              "      <td>Tenho dívidas pendentes como cheque especial e...</td>\n",
              "      <td>2021-02-21 09:31:23</td>\n",
              "      <td>342353</td>\n",
              "    </tr>\n",
              "    <tr>\n",
              "      <th>1</th>\n",
              "      <td>2</td>\n",
              "      <td>1</td>\n",
              "      <td>Esses débitos serão automaticamente cobrados q...</td>\n",
              "      <td>2021-02-21 09:31:45</td>\n",
              "      <td>342353</td>\n",
              "    </tr>\n",
              "    <tr>\n",
              "      <th>2</th>\n",
              "      <td>3</td>\n",
              "      <td>1</td>\n",
              "      <td>Não.</td>\n",
              "      <td>2021-02-21 11:49:49</td>\n",
              "      <td>1556785</td>\n",
              "    </tr>\n",
              "    <tr>\n",
              "      <th>3</th>\n",
              "      <td>4</td>\n",
              "      <td>1</td>\n",
              "      <td>O valor do auxílio não será usado para amortiz...</td>\n",
              "      <td>2021-02-21 11:50:06</td>\n",
              "      <td>1556785</td>\n",
              "    </tr>\n",
              "    <tr>\n",
              "      <th>4</th>\n",
              "      <td>5</td>\n",
              "      <td>1</td>\n",
              "      <td>Ele ficará blindado em sua conta.</td>\n",
              "      <td>2021-02-21 11:50:34</td>\n",
              "      <td>1556785</td>\n",
              "    </tr>\n",
              "    <tr>\n",
              "      <th>5</th>\n",
              "      <td>6</td>\n",
              "      <td>1</td>\n",
              "      <td>Trata-se de um auxílio emergencial para ajudar...</td>\n",
              "      <td>2021-02-21 11:51:09</td>\n",
              "      <td>1556785</td>\n",
              "    </tr>\n",
              "    <tr>\n",
              "      <th>6</th>\n",
              "      <td>7</td>\n",
              "      <td>2</td>\n",
              "      <td>Recebo pensão por morte do INSS. Não tenho out...</td>\n",
              "      <td>2021-02-28 15:27:20</td>\n",
              "      <td>11223</td>\n",
              "    </tr>\n",
              "    <tr>\n",
              "      <th>7</th>\n",
              "      <td>8</td>\n",
              "      <td>2</td>\n",
              "      <td>Tenho direito ao benefício do auxílio emergenc...</td>\n",
              "      <td>2021-02-28 15:27:36</td>\n",
              "      <td>11223</td>\n",
              "    </tr>\n",
              "    <tr>\n",
              "      <th>8</th>\n",
              "      <td>9</td>\n",
              "      <td>2</td>\n",
              "      <td>Não.</td>\n",
              "      <td>2021-03-01 10:19:58</td>\n",
              "      <td>12312</td>\n",
              "    </tr>\n",
              "    <tr>\n",
              "      <th>9</th>\n",
              "      <td>10</td>\n",
              "      <td>2</td>\n",
              "      <td>Os titulares de benefício da Previdência Socia...</td>\n",
              "      <td>2021-03-01 10:20:18</td>\n",
              "      <td>12312</td>\n",
              "    </tr>\n",
              "    <tr>\n",
              "      <th>10</th>\n",
              "      <td>11</td>\n",
              "      <td>2</td>\n",
              "      <td>Mesmo que preencham todas as outras condições ...</td>\n",
              "      <td>2021-03-01 10:20:32</td>\n",
              "      <td>12312</td>\n",
              "    </tr>\n",
              "    <tr>\n",
              "      <th>11</th>\n",
              "      <td>12</td>\n",
              "      <td>3</td>\n",
              "      <td>Meu marido é aposentado, mas eu não sou.</td>\n",
              "      <td>2021-03-03 21:18:25</td>\n",
              "      <td>11557</td>\n",
              "    </tr>\n",
              "    <tr>\n",
              "      <th>12</th>\n",
              "      <td>13</td>\n",
              "      <td>3</td>\n",
              "      <td>Estou desempregada.</td>\n",
              "      <td>2021-03-03 21:18:36</td>\n",
              "      <td>11557</td>\n",
              "    </tr>\n",
              "    <tr>\n",
              "      <th>13</th>\n",
              "      <td>14</td>\n",
              "      <td>3</td>\n",
              "      <td>Posso pedir o auxílio emergencial?</td>\n",
              "      <td>2021-03-03 21:18:54</td>\n",
              "      <td>11557</td>\n",
              "    </tr>\n",
              "    <tr>\n",
              "      <th>14</th>\n",
              "      <td>15</td>\n",
              "      <td>3</td>\n",
              "      <td>Sim, se cumprir as condições.</td>\n",
              "      <td>2021-03-04 09:11:02</td>\n",
              "      <td>1556785</td>\n",
              "    </tr>\n",
              "  </tbody>\n",
              "</table>\n",
              "</div>"
            ],
            "text/plain": [
              "    codigo  codigo_solicitacao  ...          data_envio cpf_remetente\n",
              "0        1                   1  ... 2021-02-21 09:31:23        342353\n",
              "1        2                   1  ... 2021-02-21 09:31:45        342353\n",
              "2        3                   1  ... 2021-02-21 11:49:49       1556785\n",
              "3        4                   1  ... 2021-02-21 11:50:06       1556785\n",
              "4        5                   1  ... 2021-02-21 11:50:34       1556785\n",
              "5        6                   1  ... 2021-02-21 11:51:09       1556785\n",
              "6        7                   2  ... 2021-02-28 15:27:20         11223\n",
              "7        8                   2  ... 2021-02-28 15:27:36         11223\n",
              "8        9                   2  ... 2021-03-01 10:19:58         12312\n",
              "9       10                   2  ... 2021-03-01 10:20:18         12312\n",
              "10      11                   2  ... 2021-03-01 10:20:32         12312\n",
              "11      12                   3  ... 2021-03-03 21:18:25         11557\n",
              "12      13                   3  ... 2021-03-03 21:18:36         11557\n",
              "13      14                   3  ... 2021-03-03 21:18:54         11557\n",
              "14      15                   3  ... 2021-03-04 09:11:02       1556785\n",
              "\n",
              "[15 rows x 5 columns]"
            ]
          },
          "metadata": {
            "tags": []
          },
          "execution_count": 10
        }
      ]
    }
  ]
}